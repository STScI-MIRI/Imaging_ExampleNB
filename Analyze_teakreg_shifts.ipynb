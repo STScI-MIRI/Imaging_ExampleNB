{
 "cells": [
  {
   "cell_type": "markdown",
   "id": "bb87181e",
   "metadata": {},
   "source": [
    "### Analyzing tweakreg shifts\n",
    "\n",
    "Author: Karl Gordon\n",
    "\n",
    "5 Jul 2022"
   ]
  },
  {
   "cell_type": "code",
   "execution_count": 1,
   "id": "1503b24f",
   "metadata": {},
   "outputs": [],
   "source": [
    "from tweakwcs import JWSTgWCS\n",
    "from jwst import datamodels\n",
    "from astropy.stats import sigma_clip\n",
    "import numpy as np\n",
    "import glob"
   ]
  },
  {
   "cell_type": "code",
   "execution_count": 6,
   "id": "3ff957e3",
   "metadata": {},
   "outputs": [],
   "source": [
    "n_tiles = 5\n",
    "n_images_per_tile = 10"
   ]
  },
  {
   "cell_type": "code",
   "execution_count": 3,
   "id": "92f030fa",
   "metadata": {
    "scrolled": false
   },
   "outputs": [
    {
     "name": "stdout",
     "output_type": "stream",
     "text": [
      "./F560W/stage3/jw01040001001_03101_00001_mirimage_fixed_wcs_tweakreg.fits [ 0.1046129  -0.10911081] S1HP090792\n",
      "./F560W/stage3/jw01040001001_03101_00002_mirimage_fixed_wcs_tweakreg.fits [ 0.11033027 -0.11822098] S1HP090792\n",
      "./F560W/stage3/jw01040001001_03101_00003_mirimage_fixed_wcs_tweakreg.fits [ 0.09954632 -0.11549697] S1HP090792\n",
      "./F560W/stage3/jw01040001001_03101_00004_mirimage_fixed_wcs_tweakreg.fits [ 0.10440985 -0.11558269] S1HP090792\n",
      "./F560W/stage3/jw01040001001_03101_00005_mirimage_fixed_wcs_tweakreg.fits [ 0.10531285 -0.11122491] S1HP090792\n",
      "./F560W/stage3/jw01040001001_0310j_00001_mirimage_fixed_wcs_tweakreg.fits [ 0.10934406 -0.11607055] S1HP090792\n",
      "./F560W/stage3/jw01040001001_0310j_00002_mirimage_fixed_wcs_tweakreg.fits [ 0.10699728 -0.12492857] S1HP090792\n",
      "./F560W/stage3/jw01040001001_0310j_00003_mirimage_fixed_wcs_tweakreg.fits [ 0.1052372  -0.11965154] S1HP090792\n",
      "./F560W/stage3/jw01040001001_0310j_00004_mirimage_fixed_wcs_tweakreg.fits [ 0.10873223 -0.12227168] S1HP090792\n",
      "./F560W/stage3/jw01040001001_0310j_00005_mirimage_fixed_wcs_tweakreg.fits [ 0.10924137 -0.12426363] S1HP090792\n",
      "./F560W/stage3/jw01040001002_03101_00001_mirimage_fixed_wcs_tweakreg.fits [ 0.11225891 -0.13882681] S1HP091481\n",
      "./F560W/stage3/jw01040001002_03101_00002_mirimage_fixed_wcs_tweakreg.fits [ 0.11495412 -0.14045409] S1HP091481\n",
      "./F560W/stage3/jw01040001002_03101_00003_mirimage_fixed_wcs_tweakreg.fits [ 0.10680332 -0.13463987] S1HP091481\n",
      "./F560W/stage3/jw01040001002_03101_00004_mirimage_fixed_wcs_tweakreg.fits [ 0.10664813 -0.13479887] S1HP091481\n",
      "./F560W/stage3/jw01040001002_03101_00005_mirimage_fixed_wcs_tweakreg.fits [ 0.11546861 -0.13790822] S1HP091481\n",
      "./F560W/stage3/jw01040001002_0310j_00001_mirimage_fixed_wcs_tweakreg.fits [ 0.10572435 -0.11536618] S1HP091481\n",
      "./F560W/stage3/jw01040001002_0310j_00002_mirimage_fixed_wcs_tweakreg.fits [ 0.10292854 -0.12656802] S1HP091481\n",
      "./F560W/stage3/jw01040001002_0310j_00003_mirimage_fixed_wcs_tweakreg.fits [ 0.10169142 -0.12285754] S1HP091481\n",
      "./F560W/stage3/jw01040001002_0310j_00004_mirimage_fixed_wcs_tweakreg.fits [ 0.10146679 -0.13218628] S1HP091481\n",
      "./F560W/stage3/jw01040001002_0310j_00005_mirimage_fixed_wcs_tweakreg.fits [ 0.10212156 -0.12719029] S1HP091481\n",
      "./F560W/stage3/jw01040001003_03101_00001_mirimage_fixed_wcs_tweakreg.fits [ 0.1060594  -0.10748639] S1HP093172\n",
      "./F560W/stage3/jw01040001003_03101_00002_mirimage_fixed_wcs_tweakreg.fits [ 0.10350294 -0.12131731] S1HP093172\n",
      "./F560W/stage3/jw01040001003_03101_00003_mirimage_fixed_wcs_tweakreg.fits [ 0.10174589 -0.12678009] S1HP093172\n",
      "./F560W/stage3/jw01040001003_03101_00004_mirimage_fixed_wcs_tweakreg.fits [ 0.10026455 -0.12175042] S1HP093172\n",
      "./F560W/stage3/jw01040001003_03101_00005_mirimage_fixed_wcs_tweakreg.fits [ 0.10366742 -0.12346722] S1HP093172\n",
      "./F560W/stage3/jw01040001003_0310j_00001_mirimage_fixed_wcs_tweakreg.fits [ 0.09540509 -0.14431798] S1HP093172\n",
      "./F560W/stage3/jw01040001003_0310j_00002_mirimage_fixed_wcs_tweakreg.fits [ 0.10318174 -0.11834792] S1HP093172\n",
      "./F560W/stage3/jw01040001003_0310j_00003_mirimage_fixed_wcs_tweakreg.fits [ 0.10052989 -0.11568961] S1HP093172\n",
      "./F560W/stage3/jw01040001003_0310j_00004_mirimage_fixed_wcs_tweakreg.fits [ 0.09777084 -0.11814375] S1HP093172\n",
      "./F560W/stage3/jw01040001003_0310j_00005_mirimage_fixed_wcs_tweakreg.fits [ 0.10426461 -0.11791517] S1HP093172\n",
      "./F560W/stage3/jw01040001004_03101_00001_mirimage_fixed_wcs_tweakreg.fits [ 0.08936902 -0.1120277 ] S1HP093172\n",
      "./F560W/stage3/jw01040001004_03101_00002_mirimage_fixed_wcs_tweakreg.fits [ 0.08753498 -0.12052266] S1HP093172\n",
      "./F560W/stage3/jw01040001004_03101_00003_mirimage_fixed_wcs_tweakreg.fits [ 0.08976265 -0.11286233] S1HP093172\n",
      "./F560W/stage3/jw01040001004_03101_00004_mirimage_fixed_wcs_tweakreg.fits [ 0.08844734 -0.11618403] S1HP093172\n",
      "./F560W/stage3/jw01040001004_03101_00005_mirimage_fixed_wcs_tweakreg.fits [ 0.09122827 -0.12278127] S1HP093172\n",
      "./F560W/stage3/jw01040001004_0310j_00001_mirimage_fixed_wcs_tweakreg.fits [ 0.09437473 -0.11548969] S1HP093172\n",
      "./F560W/stage3/jw01040001004_0310j_00002_mirimage_fixed_wcs_tweakreg.fits [ 0.08928152 -0.12696451] S1HP093172\n",
      "./F560W/stage3/jw01040001004_0310j_00003_mirimage_fixed_wcs_tweakreg.fits [ 0.08700749 -0.12716074] S1HP093172\n",
      "./F560W/stage3/jw01040001004_0310j_00004_mirimage_fixed_wcs_tweakreg.fits [ 0.09409717 -0.13180387] S1HP093172\n",
      "./F560W/stage3/jw01040001004_0310j_00005_mirimage_fixed_wcs_tweakreg.fits [ 0.09543207 -0.12869362] S1HP093172\n",
      "./F560W/stage3/jw01040001005_03101_00001_mirimage_fixed_wcs_tweakreg.fits [-0.97318695  1.03764066] S1HP093000\n",
      "./F560W/stage3/jw01040001005_03101_00002_mirimage_fixed_wcs_tweakreg.fits [-0.97524167  1.04695409] S1HP093000\n",
      "./F560W/stage3/jw01040001005_03101_00003_mirimage_fixed_wcs_tweakreg.fits [-0.97705709  1.04906997] S1HP093000\n",
      "./F560W/stage3/jw01040001005_03101_00004_mirimage_fixed_wcs_tweakreg.fits [-0.97934219  1.04616322] S1HP093000\n",
      "./F560W/stage3/jw01040001005_03101_00005_mirimage_fixed_wcs_tweakreg.fits [-0.97394367  1.04842164] S1HP093000\n"
     ]
    }
   ],
   "source": [
    "RAD2ARCSEC = 3600.0 * np.rad2deg(1.0)\n",
    "\n",
    "filter = \"F560W\"\n",
    "twfiles = np.sort(glob.glob(f\"./{filter}/stage3/*wcs_tweakreg.fits\"))\n",
    "\n",
    "shifts = np.zeros((2, len(twfiles)))\n",
    "for k, cfile in enumerate(twfiles):\n",
    "    # extract x,y shifts from the aligned image:\n",
    "    aligned_model = datamodels.open(cfile)\n",
    "    matrix = aligned_model.meta.wcs.forward_transform['tp_affine'].matrix.value\n",
    "    cshift = RAD2ARCSEC * aligned_model.meta.wcs.forward_transform['tp_affine'].translation.value\n",
    "    shifts[:, k] = cshift\n",
    "    print(cfile, cshift, aligned_model.meta.guidestar.gs_id)"
   ]
  },
  {
   "cell_type": "code",
   "execution_count": 4,
   "id": "5abffd5d",
   "metadata": {},
   "outputs": [
    {
     "data": {
      "text/plain": [
       "[<matplotlib.lines.Line2D at 0x7fd540c31cf0>]"
      ]
     },
     "execution_count": 4,
     "metadata": {},
     "output_type": "execute_result"
    },
    {
     "data": {
      "image/png": "[encoded data removed]",
      "text/plain": [
       "<Figure size 432x288 with 1 Axes>"
      ]
     },
     "metadata": {
      "needs_background": "light"
     },
     "output_type": "display_data"
    }
   ],
   "source": [
    "import matplotlib.pyplot as plt\n",
    "\n",
    "plt.plot(range(len(twfiles)), shifts[0, :], \"b-\")\n",
    "plt.plot(range(len(twfiles)), shifts[1, :], \"g-\")"
   ]
  },
  {
   "cell_type": "code",
   "execution_count": 7,
   "id": "15bdab39",
   "metadata": {},
   "outputs": [
    {
     "name": "stdout",
     "output_type": "stream",
     "text": [
      "0 0.10637643165419682 -0.11768223374643519\n",
      "1 0.10700657405766205 -0.13107961726782408\n",
      "2 0.10163923831678442 -0.12152158617752193\n",
      "3 0.09065352553736802 -0.12144904023219313\n",
      "4 -0.975754312382031 1.0456499145482434\n"
     ]
    }
   ],
   "source": [
    "# determine the aveage values for each tile\n",
    "#    set the range to be the number of tiles and the \n",
    "for k in range(n_tiles):\n",
    "    k1 = k * n_images_per_tile\n",
    "    k2 = k1 + n_images_per_tile\n",
    "    avex = np.average(sigma_clip(shifts[0, k1:k2]))\n",
    "    avey = np.average(sigma_clip(shifts[1, k1:k2]))\n",
    "    print(k, avex, avey)"
   ]
  },
  {
   "cell_type": "code",
   "execution_count": null,
   "id": "96016508",
   "metadata": {},
   "outputs": [],
   "source": []
  }
 ],
 "metadata": {
  "kernelspec": {
   "display_name": "Python (jwstdev)",
   "language": "python",
   "name": "myenv"
  },
  "language_info": {
   "codemirror_mode": {
    "name": "ipython",
    "version": 3
   },
   "file_extension": ".py",
   "mimetype": "text/x-python",
   "name": "python",
   "nbconvert_exporter": "python",
   "pygments_lexer": "ipython3",
   "version": "3.10.4"
  }
 },
 "nbformat": 4,
 "nbformat_minor": 5
}
