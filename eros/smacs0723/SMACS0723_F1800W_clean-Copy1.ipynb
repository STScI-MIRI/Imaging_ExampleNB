{
 "cells": [
  {
   "cell_type": "markdown",
   "id": "62a533e8",
   "metadata": {},
   "source": [
    "## F1800W - SMACS0723 - col/row pull up down cleaning\n",
    "\n",
    "Author: Karl Gordon\n",
    "\n",
    "Last modified: 10 Aug 2022"
   ]
  },
  {
   "cell_type": "markdown",
   "id": "ab385467",
   "metadata": {},
   "source": [
    "### Variables controling processing and display"
   ]
  },
  {
   "cell_type": "code",
   "execution_count": 1,
   "id": "948ad391",
   "metadata": {},
   "outputs": [],
   "source": [
    "filter = \"F1800W\"\n",
    "fwhm = 5.2\n",
    "exclude_above = None\n",
    "ds9point = \"rowcol_points.reg\"\n",
    "\n",
    "crval = [110.8261940446365, -73.45398878295636]\n",
    "# rotation = 63.0\n",
    "# crval = None\n",
    "rotation = None\n",
    "\n",
    "tweakreg = False\n",
    "align_to_gaia = False\n",
    "\n",
    "matchbkg = False\n",
    "\n",
    "# display range for images\n",
    "drange_cal = [-0.1, 5.0]\n",
    "dmap = \"afmhot\"  # same as ds9 bb\n",
    "\n",
    "run_cc_image3 = True"
   ]
  },
  {
   "cell_type": "code",
   "execution_count": 2,
   "id": "9ded4d72",
   "metadata": {},
   "outputs": [],
   "source": [
    "import os\n",
    "import glob\n",
    "import copy\n",
    "\n",
    "from astropy.io import ascii, fits\n",
    "from astropy.visualization import simple_norm"
   ]
  },
  {
   "cell_type": "code",
   "execution_count": 3,
   "id": "f5d097d4",
   "metadata": {},
   "outputs": [
    {
     "name": "stdout",
     "output_type": "stream",
     "text": [
      "5.0.4\n"
     ]
    }
   ],
   "source": [
    "import astropy\n",
    "print(astropy.__version__)"
   ]
  },
  {
   "cell_type": "code",
   "execution_count": 4,
   "id": "5668d20c",
   "metadata": {},
   "outputs": [],
   "source": [
    "os.environ[\"CRDS_PATH\"] = \"/home/kgordon/crds_cache\"\n",
    "os.environ[\"CRDS_SERVER_URL\"] = \"https://jwst-crds-pub.stsci.edu\""
   ]
  },
  {
   "cell_type": "code",
   "execution_count": 5,
   "id": "d48a1310",
   "metadata": {},
   "outputs": [],
   "source": [
    "import matplotlib.pyplot as plt\n",
    "import matplotlib as mpl\n",
    "from mpl_toolkits.axes_grid1 import ImageGrid\n",
    "\n",
    "# Use this version for non-interactive plots (easier scrolling of the notebook)\n",
    "%matplotlib inline\n",
    "\n",
    "# Use this version (outside of Jupyter Lab) if you want interactive plots\n",
    "#%matplotlib notebook\n",
    "\n",
    "# These gymnastics are needed to make the sizes of the figures\n",
    "# be the same in both the inline and notebook versions\n",
    "%config InlineBackend.print_figure_kwargs = {'bbox_inches': None}\n",
    "\n",
    "mpl.rcParams['savefig.dpi'] = 80\n",
    "mpl.rcParams['figure.dpi'] = 80"
   ]
  },
  {
   "cell_type": "code",
   "execution_count": 6,
   "id": "c4d64fc7",
   "metadata": {},
   "outputs": [],
   "source": [
    "# List of possible data quality flags\n",
    "from jwst.datamodels import dqflags\n",
    "from jwst import datamodels\n",
    "\n",
    "from jwst.associations import asn_from_list\n",
    "from jwst.associations.lib.rules_level2_base import DMSLevel2bBase\n",
    "from jwst.associations.lib.rules_level3_base import DMS_Level3_Base\n",
    "\n",
    "# custom helper routines\n",
    "from helpers.jwst_helpers import show_image\n",
    "from helpers.miri_clean import make_sky, fix_rowcol_pull_updown\n",
    "from helpers.miri_helpers import miri_image3"
   ]
  },
  {
   "cell_type": "code",
   "execution_count": 7,
   "id": "da827fea",
   "metadata": {},
   "outputs": [
    {
     "name": "stdout",
     "output_type": "stream",
     "text": [
      "1.6.2.dev4+g35d5e1d\n"
     ]
    }
   ],
   "source": [
    "import jwst\n",
    "print(jwst.__version__)"
   ]
  },
  {
   "cell_type": "markdown",
   "id": "0cef96c3",
   "metadata": {},
   "source": [
    "### Clean col/row pull up/down if desired"
   ]
  },
  {
   "cell_type": "code",
   "execution_count": 8,
   "id": "4ed7a688",
   "metadata": {},
   "outputs": [
    {
     "name": "stdout",
     "output_type": "stream",
     "text": [
      "on image ./F1800W/stage2/jw02736002001_02107_00003_mirimage_fixed_wcs_skysub_cal.fits\n",
      "on image ./F1800W/stage2/jw02736002001_02107_00007_mirimage_fixed_wcs_skysub_cal.fits\n",
      "on image ./F1800W/stage2/jw02736002001_02107_00002_mirimage_fixed_wcs_skysub_cal.fits\n",
      "on image ./F1800W/stage2/jw02736002001_02107_00008_mirimage_fixed_wcs_skysub_cal.fits\n",
      "on image ./F1800W/stage2/jw02736002001_02107_00006_mirimage_fixed_wcs_skysub_cal.fits\n",
      "on image ./F1800W/stage2/jw02736002001_02107_00010_mirimage_fixed_wcs_skysub_cal.fits\n",
      "on image ./F1800W/stage2/jw02736002001_02107_00004_mirimage_fixed_wcs_skysub_cal.fits\n"
     ]
    }
   ],
   "source": [
    "if ds9point is not None:\n",
    "    miri_cal_files = glob.glob(f\"./{filter}/stage2/*ge_fixed_wcs_skysub_cal.fits\")\n",
    "    for cfile in miri_cal_files:\n",
    "        fix_rowcol_pull_updown(cfile, ds9point, xwidth=40, ywidth=40, xoffset=100, yoffset=100, cortype=None)  # [\"topbotright\"])"
   ]
  },
  {
   "cell_type": "markdown",
   "id": "06bd3cb3",
   "metadata": {},
   "source": [
    "### rerun CALWEBB_IMAGE3 with the new cleaned files"
   ]
  },
  {
   "cell_type": "code",
   "execution_count": 9,
   "id": "f9871679",
   "metadata": {},
   "outputs": [
    {
     "name": "stdout",
     "output_type": "stream",
     "text": [
      "['./F1800W/stage2/jw02736002001_02107_00005_mirimage_fixed_wcs_skysub_cal_colrow.fits', './F1800W/stage2/jw02736002001_02107_00002_mirimage_fixed_wcs_skysub_cal_colrow.fits', './F1800W/stage2/jw02736002001_02107_00003_mirimage_fixed_wcs_skysub_cal_colrow.fits', './F1800W/stage2/jw02736002001_02107_00004_mirimage_fixed_wcs_skysub_cal_colrow.fits', './F1800W/stage2/jw02736002001_02107_00006_mirimage_fixed_wcs_skysub_cal_colrow.fits', './F1800W/stage2/jw02736002001_02107_00008_mirimage_fixed_wcs_skysub_cal_colrow.fits', './F1800W/stage2/jw02736002001_02107_00009_mirimage_fixed_wcs_skysub_cal_colrow.fits', './F1800W/stage2/jw02736002001_02107_00007_mirimage_fixed_wcs_skysub_cal_colrow.fits', './F1800W/stage2/jw02736002001_02107_00001_mirimage_fixed_wcs_skysub_cal_colrow.fits', './F1800W/stage2/jw02736002001_02107_00010_mirimage_fixed_wcs_skysub_cal_colrow.fits']\n"
     ]
    }
   ],
   "source": [
    "if run_cc_image3:\n",
    "    miri_cccal_files = glob.glob(f\"./{filter}/stage2/*ge_fixed_wcs_skysub_cal_colrow.fits\")\n",
    "    output_dir = f\"./{filter}/stage3/\"\n",
    "    print(miri_cccal_files)\n",
    "\n",
    "    if rotation is not None:\n",
    "        miri_asn_name = f'miri_{filter}_stage3_nirproj_asn_skysub_colrow'\n",
    "    else: \n",
    "        miri_asn_name = f'miri_{filter}_stage3_asn_skysub_colrow'\n",
    "    miri_asn = asn_from_list.asn_from_list(miri_cccal_files, rule=DMS_Level3_Base, product_name=miri_asn_name)\n",
    "\n",
    "    miri_asn_file = f'{miri_asn_name}.json'\n",
    "    with open(miri_asn_file, 'w') as outfile:\n",
    "        name, serialized = miri_asn.dump(format='json')\n",
    "        outfile.write(serialized)"
   ]
  },
  {
   "cell_type": "code",
   "execution_count": null,
   "id": "eb2d55c1",
   "metadata": {},
   "outputs": [
    {
     "name": "stderr",
     "output_type": "stream",
     "text": [
      "2022-08-10 14:11:49,972 - stpipe.Image3Pipeline - INFO - Image3Pipeline instance created.\n",
      "2022-08-10 14:11:49,973 - stpipe - CRITICAL - config: {'pre_hooks': [], 'post_hooks': [], 'output_file': None, 'output_dir': None, 'output_ext': '.fits', 'output_use_model': True, 'output_use_index': True, 'save_results': False, 'skip': False, 'suffix': 'assign_mtwcs', 'search_output_file': True, 'input_dir': None, 'class': ''}\n",
      "\n",
      "\n",
      "2022-08-10 14:11:49,973 - stpipe.Image3Pipeline.assign_mtwcs - INFO - AssignMTWcsStep instance created.\n",
      "2022-08-10 14:11:49,974 - stpipe - CRITICAL - config: {'pre_hooks': [], 'post_hooks': [], 'output_file': None, 'output_dir': None, 'output_ext': '.fits', 'output_use_model': True, 'output_use_index': True, 'save_results': False, 'skip': False, 'suffix': None, 'search_output_file': True, 'input_dir': None, 'save_catalogs': False, 'catalog_format': 'ecsv', 'kernel_fwhm': 2.5, 'snr_threshold': 10.0, 'brightest': 200, 'peakmax': None, 'enforce_user_order': False, 'expand_refcat': False, 'minobj': 15, 'searchrad': 2.0, 'use2dhist': True, 'separation': 1.0, 'tolerance': 0.7, 'xoffset': 0.0, 'yoffset': 0.0, 'fitgeometry': 'rshift', 'nclip': 3, 'sigma': 3.0, 'align_to_gaia': False, 'gaia_catalog': 'GAIADR2', 'min_gaia': 5, 'save_gaia_catalog': False, 'class': ''}\n",
      "\n",
      "\n",
      "2022-08-10 14:11:49,975 - stpipe.Image3Pipeline.tweakreg - INFO - TweakRegStep instance created.\n",
      "2022-08-10 14:11:49,976 - stpipe - CRITICAL - config: {'pre_hooks': [], 'post_hooks': [], 'output_file': None, 'output_dir': None, 'output_ext': '.fits', 'output_use_model': False, 'output_use_index': True, 'save_results': False, 'skip': False, 'suffix': None, 'search_output_file': True, 'input_dir': None, 'skymethod': 'match', 'match_down': True, 'subtract': False, 'stepsize': None, 'skystat': 'mode', 'dqbits': '~DO_NOT_USE+NON_SCIENCE', 'lower': None, 'upper': None, 'nclip': 5, 'lsigma': 4.0, 'usigma': 4.0, 'binwidth': 0.1, 'class': ''}\n",
      "\n",
      "\n",
      "2022-08-10 14:11:49,976 - stpipe.Image3Pipeline.skymatch - INFO - SkyMatchStep instance created.\n",
      "2022-08-10 14:11:49,977 - stpipe - CRITICAL - config: {'pre_hooks': [], 'post_hooks': [], 'output_file': None, 'output_dir': None, 'output_ext': '.fits', 'output_use_model': False, 'output_use_index': True, 'save_results': False, 'skip': False, 'suffix': None, 'search_output_file': False, 'input_dir': None, 'weight_type': 'ivm', 'pixfrac': 1.0, 'kernel': 'square', 'fillval': 'INDEF', 'nlow': 0, 'nhigh': 0, 'maskpt': 0.7, 'grow': 1, 'snr': '5.0 4.0', 'scale': '1.2 0.7', 'backg': 0.0, 'save_intermediate_results': False, 'resample_data': True, 'good_bits': '~DO_NOT_USE', 'scale_detection': False, 'allowed_memory': None, 'class': ''}\n",
      "\n",
      "\n",
      "2022-08-10 14:11:49,978 - stpipe.Image3Pipeline.outlier_detection - INFO - OutlierDetectionStep instance created.\n",
      "2022-08-10 14:11:49,979 - stpipe - CRITICAL - config: {'pre_hooks': [], 'post_hooks': [], 'output_file': None, 'output_dir': None, 'output_ext': '.fits', 'output_use_model': False, 'output_use_index': True, 'save_results': False, 'skip': False, 'suffix': None, 'search_output_file': True, 'input_dir': None, 'pixfrac': 1.0, 'kernel': 'square', 'fillval': 'INDEF', 'weight_type': 'ivm', 'output_shape': None, 'crpix': None, 'crval': None, 'rotation': None, 'pixel_scale_ratio': 1.0, 'pixel_scale': None, 'single': False, 'blendheaders': True, 'allowed_memory': None, 'override_drizpars': None, 'class': ''}\n",
      "\n",
      "\n",
      "2022-08-10 14:11:49,979 - stpipe.Image3Pipeline.resample - INFO - ResampleStep instance created.\n",
      "2022-08-10 14:11:49,980 - stpipe - CRITICAL - config: {'pre_hooks': [], 'post_hooks': [], 'output_file': None, 'output_dir': None, 'output_ext': '.fits', 'output_use_model': False, 'output_use_index': True, 'save_results': False, 'skip': False, 'suffix': 'cat', 'search_output_file': True, 'input_dir': None, 'bkg_boxsize': 1000, 'kernel_fwhm': 2.0, 'snr_threshold': 3.0, 'npixels': 25, 'deblend': False, 'aperture_ee1': 30, 'aperture_ee2': 50, 'aperture_ee3': 70, 'ci1_star_threshold': 2.0, 'ci2_star_threshold': 1.8, 'override_apcorr': None, 'override_abvegaoffset': None, 'class': ''}\n",
      "\n",
      "\n",
      "2022-08-10 14:11:49,981 - stpipe.Image3Pipeline.source_catalog - INFO - SourceCatalogStep instance created.\n",
      "2022-08-10 14:11:50,089 - stpipe.Image3Pipeline - INFO - Step Image3Pipeline running with args ('miri_F1800W_stage3_asn_skysub_colrow.json',).\n",
      "2022-08-10 14:11:50,094 - stpipe.Image3Pipeline - INFO - Step Image3Pipeline parameters are: {'pre_hooks': [], 'post_hooks': [], 'output_file': None, 'output_dir': './F1800W/stage3/', 'output_ext': '.fits', 'output_use_model': False, 'output_use_index': True, 'save_results': True, 'skip': False, 'suffix': None, 'search_output_file': True, 'input_dir': '', 'steps': {'assign_mtwcs': {'pre_hooks': [], 'post_hooks': [], 'output_file': None, 'output_dir': None, 'output_ext': '.fits', 'output_use_model': True, 'output_use_index': True, 'save_results': False, 'skip': False, 'suffix': 'assign_mtwcs', 'search_output_file': True, 'input_dir': ''}, 'tweakreg': {'pre_hooks': [], 'post_hooks': [], 'output_file': None, 'output_dir': None, 'output_ext': '.fits', 'output_use_model': True, 'output_use_index': True, 'save_results': True, 'skip': True, 'suffix': None, 'search_output_file': True, 'input_dir': '', 'save_catalogs': False, 'catalog_format': 'ecsv', 'kernel_fwhm': 5.2, 'snr_threshold': 5, 'brightest': 200, 'peakmax': None, 'enforce_user_order': False, 'expand_refcat': False, 'minobj': 5, 'searchrad': 5.0, 'use2dhist': True, 'separation': 1.0, 'tolerance': 0.7, 'xoffset': 0.0, 'yoffset': 0.0, 'fitgeometry': 'shift', 'nclip': 3, 'sigma': 3.0, 'align_to_gaia': False, 'gaia_catalog': 'GAIADR2', 'min_gaia': 5, 'save_gaia_catalog': False}, 'skymatch': {'pre_hooks': [], 'post_hooks': [], 'output_file': None, 'output_dir': None, 'output_ext': '.fits', 'output_use_model': False, 'output_use_index': True, 'save_results': False, 'skip': True, 'suffix': None, 'search_output_file': True, 'input_dir': '', 'skymethod': 'match', 'match_down': True, 'subtract': False, 'stepsize': None, 'skystat': 'mode', 'dqbits': '~DO_NOT_USE+NON_SCIENCE', 'lower': 0.0, 'upper': None, 'nclip': 5, 'lsigma': 4.0, 'usigma': 4.0, 'binwidth': 0.1}, 'outlier_detection': {'pre_hooks': [], 'post_hooks': [], 'output_file': None, 'output_dir': None, 'output_ext': '.fits', 'output_use_model': False, 'output_use_index': True, 'save_results': False, 'skip': False, 'suffix': None, 'search_output_file': False, 'input_dir': '', 'weight_type': 'ivm', 'pixfrac': 1.0, 'kernel': 'square', 'fillval': 'INDEF', 'nlow': 0, 'nhigh': 0, 'maskpt': 0.7, 'grow': 1, 'snr': '5.0 4.0', 'scale': '1.2 0.7', 'backg': 0.0, 'save_intermediate_results': False, 'resample_data': True, 'good_bits': '~DO_NOT_USE', 'scale_detection': False, 'allowed_memory': None}, 'resample': {'pre_hooks': [], 'post_hooks': [], 'output_file': None, 'output_dir': None, 'output_ext': '.fits', 'output_use_model': False, 'output_use_index': True, 'save_results': False, 'skip': False, 'suffix': None, 'search_output_file': True, 'input_dir': '', 'pixfrac': 1.0, 'kernel': 'square', 'fillval': 'INDEF', 'weight_type': 'ivm', 'output_shape': None, 'crpix': None, 'crval': [110.8261940446365, -73.45398878295636], 'rotation': None, 'pixel_scale_ratio': 1.0, 'pixel_scale': 0.11, 'single': False, 'blendheaders': True, 'allowed_memory': None}, 'source_catalog': {'pre_hooks': [], 'post_hooks': [], 'output_file': None, 'output_dir': None, 'output_ext': '.fits', 'output_use_model': False, 'output_use_index': True, 'save_results': False, 'skip': False, 'suffix': 'cat', 'search_output_file': True, 'input_dir': '', 'bkg_boxsize': 1000, 'kernel_fwhm': 2.0, 'snr_threshold': 5, 'npixels': 25, 'deblend': False, 'aperture_ee1': 30, 'aperture_ee2': 50, 'aperture_ee3': 70, 'ci1_star_threshold': 2.0, 'ci2_star_threshold': 1.8}}}\n",
      "2022-08-10 14:11:50,299 - stpipe.Image3Pipeline - INFO - Prefetching reference files for dataset: 'jw02736002001_02107_00005_mirimage_fixed_wcs_skysub_cal_colrow.fits' reftypes = ['abvegaoffset', 'apcorr', 'drizpars']\n",
      "2022-08-10 14:11:51,952 - stpipe.Image3Pipeline - INFO - Prefetch for ABVEGAOFFSET reference file is '/home/kgordon/crds_cache/references/jwst/miri/jwst_miri_abvegaoffset_0001.asdf'.\n"
     ]
    },
    {
     "name": "stderr",
     "output_type": "stream",
     "text": [
      "2022-08-10 14:11:51,954 - stpipe.Image3Pipeline - INFO - Prefetch for APCORR reference file is '/home/kgordon/crds_cache/references/jwst/miri/jwst_miri_apcorr_0008.fits'.\n",
      "2022-08-10 14:11:51,955 - stpipe.Image3Pipeline - INFO - Prefetch for DRIZPARS reference file is '/home/kgordon/crds_cache/references/jwst/miri/jwst_miri_drizpars_0001.fits'.\n",
      "2022-08-10 14:11:51,957 - stpipe.Image3Pipeline - INFO - Starting calwebb_image3 ...\n",
      "2022-08-10 14:11:54,292 - stpipe.Image3Pipeline.tweakreg - INFO - Step tweakreg running with args (<ModelContainer>,).\n",
      "2022-08-10 14:11:54,294 - stpipe.Image3Pipeline.tweakreg - INFO - Step tweakreg parameters are: {'pre_hooks': [], 'post_hooks': [], 'output_file': None, 'output_dir': None, 'output_ext': '.fits', 'output_use_model': True, 'output_use_index': True, 'save_results': True, 'skip': True, 'suffix': None, 'search_output_file': True, 'input_dir': '', 'save_catalogs': False, 'catalog_format': 'ecsv', 'kernel_fwhm': 5.2, 'snr_threshold': 5, 'brightest': 200, 'peakmax': None, 'enforce_user_order': False, 'expand_refcat': False, 'minobj': 5, 'searchrad': 5.0, 'use2dhist': True, 'separation': 1.0, 'tolerance': 0.7, 'xoffset': 0.0, 'yoffset': 0.0, 'fitgeometry': 'shift', 'nclip': 3, 'sigma': 3.0, 'align_to_gaia': False, 'gaia_catalog': 'GAIADR2', 'min_gaia': 5, 'save_gaia_catalog': False}\n",
      "2022-08-10 14:11:54,294 - stpipe.Image3Pipeline.tweakreg - INFO - Step skipped.\n",
      "2022-08-10 14:11:54,313 - stpipe.Image3Pipeline.tweakreg - INFO - Step tweakreg done\n",
      "2022-08-10 14:11:54,441 - stpipe.Image3Pipeline.skymatch - INFO - Step skymatch running with args (<ModelContainer>,).\n",
      "2022-08-10 14:11:54,442 - stpipe.Image3Pipeline.skymatch - INFO - Step skymatch parameters are: {'pre_hooks': [], 'post_hooks': [], 'output_file': None, 'output_dir': None, 'output_ext': '.fits', 'output_use_model': False, 'output_use_index': True, 'save_results': False, 'skip': True, 'suffix': None, 'search_output_file': True, 'input_dir': '', 'skymethod': 'match', 'match_down': True, 'subtract': False, 'stepsize': None, 'skystat': 'mode', 'dqbits': '~DO_NOT_USE+NON_SCIENCE', 'lower': 0.0, 'upper': None, 'nclip': 5, 'lsigma': 4.0, 'usigma': 4.0, 'binwidth': 0.1}\n",
      "2022-08-10 14:11:54,443 - stpipe.Image3Pipeline.skymatch - INFO - Step skipped.\n",
      "2022-08-10 14:11:54,461 - stpipe.Image3Pipeline.skymatch - INFO - Step skymatch done\n",
      "2022-08-10 14:11:54,592 - stpipe.Image3Pipeline.outlier_detection - INFO - Step outlier_detection running with args (<ModelContainer>,).\n",
      "2022-08-10 14:11:54,593 - stpipe.Image3Pipeline.outlier_detection - INFO - Step outlier_detection parameters are: {'pre_hooks': [], 'post_hooks': [], 'output_file': None, 'output_dir': None, 'output_ext': '.fits', 'output_use_model': False, 'output_use_index': True, 'save_results': True, 'skip': False, 'suffix': 'crf', 'search_output_file': False, 'input_dir': '', 'weight_type': 'ivm', 'pixfrac': 1.0, 'kernel': 'square', 'fillval': 'INDEF', 'nlow': 0, 'nhigh': 0, 'maskpt': 0.7, 'grow': 1, 'snr': '5.0 4.0', 'scale': '1.2 0.7', 'backg': 0.0, 'save_intermediate_results': False, 'resample_data': True, 'good_bits': '~DO_NOT_USE', 'scale_detection': False, 'allowed_memory': None}\n",
      "2022-08-10 14:11:54,600 - stpipe.Image3Pipeline.outlier_detection - INFO - Performing outlier detection on 10 inputs\n",
      "2022-08-10 14:11:55,578 - stpipe.Image3Pipeline.outlier_detection - INFO - Drizzling (1024, 1032) --> (1147, 1116)\n",
      "2022-08-10 14:11:56,673 - stpipe.Image3Pipeline.outlier_detection - INFO - Drizzling (1024, 1032) --> (1147, 1116)\n",
      "2022-08-10 14:11:57,776 - stpipe.Image3Pipeline.outlier_detection - INFO - Drizzling (1024, 1032) --> (1147, 1116)\n",
      "2022-08-10 14:11:58,869 - stpipe.Image3Pipeline.outlier_detection - INFO - Drizzling (1024, 1032) --> (1147, 1116)\n",
      "2022-08-10 14:11:59,988 - stpipe.Image3Pipeline.outlier_detection - INFO - Drizzling (1024, 1032) --> (1147, 1116)\n",
      "2022-08-10 14:12:01,090 - stpipe.Image3Pipeline.outlier_detection - INFO - Drizzling (1024, 1032) --> (1147, 1116)\n",
      "2022-08-10 14:12:02,186 - stpipe.Image3Pipeline.outlier_detection - INFO - Drizzling (1024, 1032) --> (1147, 1116)\n",
      "2022-08-10 14:12:03,280 - stpipe.Image3Pipeline.outlier_detection - INFO - Drizzling (1024, 1032) --> (1147, 1116)\n",
      "2022-08-10 14:12:04,374 - stpipe.Image3Pipeline.outlier_detection - INFO - Drizzling (1024, 1032) --> (1147, 1116)\n",
      "2022-08-10 14:12:05,470 - stpipe.Image3Pipeline.outlier_detection - INFO - Drizzling (1024, 1032) --> (1147, 1116)\n",
      "2022-08-10 14:12:06,516 - stpipe.Image3Pipeline.outlier_detection - INFO - Generating median from 10 images\n",
      "2022-08-10 14:12:07,291 - stpipe.Image3Pipeline.outlier_detection - INFO - Blotting median...\n",
      "2022-08-10 14:12:08,141 - stpipe.Image3Pipeline.outlier_detection - INFO - Blotting (1024, 1032) <-- (1147, 1116)\n",
      "2022-08-10 14:12:09,136 - stpipe.Image3Pipeline.outlier_detection - INFO - Blotting (1024, 1032) <-- (1147, 1116)\n",
      "2022-08-10 14:12:10,015 - stpipe.Image3Pipeline.outlier_detection - INFO - Blotting (1024, 1032) <-- (1147, 1116)\n",
      "2022-08-10 14:12:10,897 - stpipe.Image3Pipeline.outlier_detection - INFO - Blotting (1024, 1032) <-- (1147, 1116)\n",
      "2022-08-10 14:12:11,795 - stpipe.Image3Pipeline.outlier_detection - INFO - Blotting (1024, 1032) <-- (1147, 1116)\n",
      "2022-08-10 14:12:12,680 - stpipe.Image3Pipeline.outlier_detection - INFO - Blotting (1024, 1032) <-- (1147, 1116)\n",
      "2022-08-10 14:12:13,565 - stpipe.Image3Pipeline.outlier_detection - INFO - Blotting (1024, 1032) <-- (1147, 1116)\n",
      "2022-08-10 14:12:14,443 - stpipe.Image3Pipeline.outlier_detection - INFO - Blotting (1024, 1032) <-- (1147, 1116)\n",
      "2022-08-10 14:12:15,322 - stpipe.Image3Pipeline.outlier_detection - INFO - Blotting (1024, 1032) <-- (1147, 1116)\n",
      "2022-08-10 14:12:16,196 - stpipe.Image3Pipeline.outlier_detection - INFO - Blotting (1024, 1032) <-- (1147, 1116)\n",
      "2022-08-10 14:12:16,236 - stpipe.Image3Pipeline.outlier_detection - INFO - Flagging outliers\n",
      "2022-08-10 14:12:16,320 - stpipe.Image3Pipeline.outlier_detection - INFO - New pixels flagged as outliers: 472 (0.04%)\n",
      "2022-08-10 14:12:16,402 - stpipe.Image3Pipeline.outlier_detection - INFO - New pixels flagged as outliers: 443 (0.04%)\n",
      "2022-08-10 14:12:16,481 - stpipe.Image3Pipeline.outlier_detection - INFO - New pixels flagged as outliers: 484 (0.05%)\n",
      "2022-08-10 14:12:16,564 - stpipe.Image3Pipeline.outlier_detection - INFO - New pixels flagged as outliers: 410 (0.04%)\n",
      "2022-08-10 14:12:16,643 - stpipe.Image3Pipeline.outlier_detection - INFO - New pixels flagged as outliers: 568 (0.05%)\n",
      "2022-08-10 14:12:16,724 - stpipe.Image3Pipeline.outlier_detection - INFO - New pixels flagged as outliers: 642 (0.06%)\n",
      "2022-08-10 14:12:16,803 - stpipe.Image3Pipeline.outlier_detection - INFO - New pixels flagged as outliers: 706 (0.07%)\n",
      "2022-08-10 14:12:16,884 - stpipe.Image3Pipeline.outlier_detection - INFO - New pixels flagged as outliers: 548 (0.05%)\n",
      "2022-08-10 14:12:16,964 - stpipe.Image3Pipeline.outlier_detection - INFO - New pixels flagged as outliers: 469 (0.04%)\n",
      "2022-08-10 14:12:17,044 - stpipe.Image3Pipeline.outlier_detection - INFO - New pixels flagged as outliers: 741 (0.07%)\n",
      "2022-08-10 14:12:18,045 - stpipe.Image3Pipeline.outlier_detection - INFO - Saved model in ./F1800W/stage3/jw02736002001_02107_00005_mirimage_fixed_wcs_skysub_cal_colrow_a3001_crf.fits\n",
      "2022-08-10 14:12:19,177 - stpipe.Image3Pipeline.outlier_detection - INFO - Saved model in ./F1800W/stage3/jw02736002001_02107_00002_mirimage_fixed_wcs_skysub_cal_colrow_a3001_crf.fits\n",
      "2022-08-10 14:12:20,161 - stpipe.Image3Pipeline.outlier_detection - INFO - Saved model in ./F1800W/stage3/jw02736002001_02107_00003_mirimage_fixed_wcs_skysub_cal_colrow_a3001_crf.fits\n",
      "2022-08-10 14:12:21,147 - stpipe.Image3Pipeline.outlier_detection - INFO - Saved model in ./F1800W/stage3/jw02736002001_02107_00004_mirimage_fixed_wcs_skysub_cal_colrow_a3001_crf.fits\n",
      "2022-08-10 14:12:22,189 - stpipe.Image3Pipeline.outlier_detection - INFO - Saved model in ./F1800W/stage3/jw02736002001_02107_00006_mirimage_fixed_wcs_skysub_cal_colrow_a3001_crf.fits\n",
      "2022-08-10 14:12:23,173 - stpipe.Image3Pipeline.outlier_detection - INFO - Saved model in ./F1800W/stage3/jw02736002001_02107_00008_mirimage_fixed_wcs_skysub_cal_colrow_a3001_crf.fits\n",
      "2022-08-10 14:12:24,144 - stpipe.Image3Pipeline.outlier_detection - INFO - Saved model in ./F1800W/stage3/jw02736002001_02107_00009_mirimage_fixed_wcs_skysub_cal_colrow_a3001_crf.fits\n"
     ]
    },
    {
     "name": "stderr",
     "output_type": "stream",
     "text": [
      "2022-08-10 14:12:25,131 - stpipe.Image3Pipeline.outlier_detection - INFO - Saved model in ./F1800W/stage3/jw02736002001_02107_00007_mirimage_fixed_wcs_skysub_cal_colrow_a3001_crf.fits\n",
      "2022-08-10 14:12:26,109 - stpipe.Image3Pipeline.outlier_detection - INFO - Saved model in ./F1800W/stage3/jw02736002001_02107_00001_mirimage_fixed_wcs_skysub_cal_colrow_a3001_crf.fits\n",
      "2022-08-10 14:12:27,109 - stpipe.Image3Pipeline.outlier_detection - INFO - Saved model in ./F1800W/stage3/jw02736002001_02107_00010_mirimage_fixed_wcs_skysub_cal_colrow_a3001_crf.fits\n",
      "2022-08-10 14:12:27,109 - stpipe.Image3Pipeline.outlier_detection - INFO - Step outlier_detection done\n",
      "2022-08-10 14:12:27,257 - stpipe.Image3Pipeline.resample - INFO - Step resample running with args (<ModelContainer>,).\n",
      "2022-08-10 14:12:27,259 - stpipe.Image3Pipeline.resample - INFO - Step resample parameters are: {'pre_hooks': [], 'post_hooks': [], 'output_file': None, 'output_dir': None, 'output_ext': '.fits', 'output_use_model': False, 'output_use_index': True, 'save_results': True, 'skip': False, 'suffix': 'i2d', 'search_output_file': True, 'input_dir': '', 'pixfrac': 1.0, 'kernel': 'square', 'fillval': 'INDEF', 'weight_type': 'ivm', 'output_shape': None, 'crpix': None, 'crval': [110.8261940446365, -73.45398878295636], 'rotation': None, 'pixel_scale_ratio': 1.0, 'pixel_scale': 0.11, 'single': False, 'blendheaders': True, 'allowed_memory': None}\n",
      "2022-08-10 14:12:27,274 - stpipe.Image3Pipeline.resample - INFO - Drizpars reference file: /home/kgordon/crds_cache/references/jwst/miri/jwst_miri_drizpars_0001.fits\n",
      "2022-08-10 14:12:27,505 - stpipe.Image3Pipeline.resample - INFO - Blending metadata for miri_F1800W_stage3_asn_skysub_colrow\n",
      "2022-08-10 14:12:28,258 - stpipe.Image3Pipeline.resample - INFO - Resampling science data\n",
      "2022-08-10 14:12:28,869 - stpipe.Image3Pipeline.resample - INFO - Drizzling (1024, 1032) --> (1157, 1126)\n",
      "2022-08-10 14:12:29,799 - stpipe.Image3Pipeline.resample - INFO - Drizzling (1024, 1032) --> (1157, 1126)\n",
      "2022-08-10 14:12:30,731 - stpipe.Image3Pipeline.resample - INFO - Drizzling (1024, 1032) --> (1157, 1126)\n",
      "2022-08-10 14:12:31,663 - stpipe.Image3Pipeline.resample - INFO - Drizzling (1024, 1032) --> (1157, 1126)\n",
      "2022-08-10 14:12:32,595 - stpipe.Image3Pipeline.resample - INFO - Drizzling (1024, 1032) --> (1157, 1126)\n",
      "2022-08-10 14:12:33,527 - stpipe.Image3Pipeline.resample - INFO - Drizzling (1024, 1032) --> (1157, 1126)\n",
      "2022-08-10 14:12:34,458 - stpipe.Image3Pipeline.resample - INFO - Drizzling (1024, 1032) --> (1157, 1126)\n",
      "2022-08-10 14:12:35,390 - stpipe.Image3Pipeline.resample - INFO - Drizzling (1024, 1032) --> (1157, 1126)\n",
      "2022-08-10 14:12:36,320 - stpipe.Image3Pipeline.resample - INFO - Drizzling (1024, 1032) --> (1157, 1126)\n",
      "2022-08-10 14:12:37,256 - stpipe.Image3Pipeline.resample - INFO - Drizzling (1024, 1032) --> (1157, 1126)\n",
      "2022-08-10 14:12:37,582 - stpipe.Image3Pipeline.resample - INFO - Resampling var_rnoise\n",
      "2022-08-10 14:12:38,195 - stpipe.Image3Pipeline.resample - INFO - Drizzling (1024, 1032) --> (1157, 1126)\n",
      "2022-08-10 14:12:39,152 - stpipe.Image3Pipeline.resample - INFO - Drizzling (1024, 1032) --> (1157, 1126)\n",
      "2022-08-10 14:12:40,109 - stpipe.Image3Pipeline.resample - INFO - Drizzling (1024, 1032) --> (1157, 1126)\n",
      "2022-08-10 14:12:41,064 - stpipe.Image3Pipeline.resample - INFO - Drizzling (1024, 1032) --> (1157, 1126)\n",
      "2022-08-10 14:12:42,019 - stpipe.Image3Pipeline.resample - INFO - Drizzling (1024, 1032) --> (1157, 1126)\n",
      "2022-08-10 14:12:42,984 - stpipe.Image3Pipeline.resample - INFO - Drizzling (1024, 1032) --> (1157, 1126)\n",
      "2022-08-10 14:12:43,937 - stpipe.Image3Pipeline.resample - INFO - Drizzling (1024, 1032) --> (1157, 1126)\n",
      "2022-08-10 14:12:44,891 - stpipe.Image3Pipeline.resample - INFO - Drizzling (1024, 1032) --> (1157, 1126)\n",
      "2022-08-10 14:12:45,847 - stpipe.Image3Pipeline.resample - INFO - Drizzling (1024, 1032) --> (1157, 1126)\n",
      "2022-08-10 14:12:46,804 - stpipe.Image3Pipeline.resample - INFO - Drizzling (1024, 1032) --> (1157, 1126)\n",
      "2022-08-10 14:12:47,153 - stpipe.Image3Pipeline.resample - INFO - Resampling var_poisson\n",
      "2022-08-10 14:12:47,765 - stpipe.Image3Pipeline.resample - INFO - Drizzling (1024, 1032) --> (1157, 1126)\n",
      "2022-08-10 14:12:48,721 - stpipe.Image3Pipeline.resample - INFO - Drizzling (1024, 1032) --> (1157, 1126)\n",
      "2022-08-10 14:12:49,678 - stpipe.Image3Pipeline.resample - INFO - Drizzling (1024, 1032) --> (1157, 1126)\n",
      "2022-08-10 14:12:50,645 - stpipe.Image3Pipeline.resample - INFO - Drizzling (1024, 1032) --> (1157, 1126)\n",
      "2022-08-10 14:12:51,603 - stpipe.Image3Pipeline.resample - INFO - Drizzling (1024, 1032) --> (1157, 1126)\n",
      "2022-08-10 14:12:52,563 - stpipe.Image3Pipeline.resample - INFO - Drizzling (1024, 1032) --> (1157, 1126)\n",
      "2022-08-10 14:12:53,520 - stpipe.Image3Pipeline.resample - INFO - Drizzling (1024, 1032) --> (1157, 1126)\n"
     ]
    }
   ],
   "source": [
    "if run_cc_image3:\n",
    "    miri_image3(miri_asn_file, output_dir, fwhm=fwhm, matchbkg=matchbkg,\n",
    "                crval=crval, rotation=rotation,\n",
    "                tweakreg=tweakreg, align_to_gaia=align_to_gaia)"
   ]
  },
  {
   "cell_type": "code",
   "execution_count": null,
   "id": "f65c2389",
   "metadata": {},
   "outputs": [],
   "source": [
    "# Look at the resulting mosaic image\n",
    "miri_mosaic_file = output_dir + miri_asn_name + '_i2d.fits'\n",
    "miri_mosaic = datamodels.open(miri_mosaic_file)"
   ]
  },
  {
   "cell_type": "code",
   "execution_count": null,
   "id": "9c58b799",
   "metadata": {},
   "outputs": [],
   "source": [
    "drange = drange_cal\n",
    "# Look at the mosaic\n",
    "show_image(miri_mosaic.data, vmin=drange[0], vmax=drange[1], dmap=dmap)"
   ]
  },
  {
   "cell_type": "code",
   "execution_count": null,
   "id": "cffaefed",
   "metadata": {},
   "outputs": [],
   "source": []
  }
 ],
 "metadata": {
  "kernelspec": {
   "display_name": "jwstdev",
   "language": "python",
   "name": "jwstdev"
  },
  "language_info": {
   "codemirror_mode": {
    "name": "ipython",
    "version": 3
   },
   "file_extension": ".py",
   "mimetype": "text/x-python",
   "name": "python",
   "nbconvert_exporter": "python",
   "pygments_lexer": "ipython3",
   "version": "3.10.4"
  }
 },
 "nbformat": 4,
 "nbformat_minor": 5
}
