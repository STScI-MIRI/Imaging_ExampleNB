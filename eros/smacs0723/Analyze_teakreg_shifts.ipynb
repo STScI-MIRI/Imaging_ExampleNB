{
 "cells": [
  {
   "cell_type": "markdown",
   "id": "bb87181e",
   "metadata": {},
   "source": [
    "### Analyzing tweakreg shifts\n",
    "\n",
    "Karl Gordon\n",
    "\n",
    "12 Jun 2022"
   ]
  },
  {
   "cell_type": "code",
   "execution_count": 1,
   "id": "1503b24f",
   "metadata": {},
   "outputs": [],
   "source": [
    "from tweakwcs import JWSTgWCS\n",
    "from jwst import datamodels\n",
    "import numpy as np\n",
    "import glob"
   ]
  },
  {
   "cell_type": "code",
   "execution_count": 2,
   "id": "92f030fa",
   "metadata": {},
   "outputs": [
    {
     "name": "stdout",
     "output_type": "stream",
     "text": [
      "./F770W/stage3/jw02736002001_02101_00001_mirimage_fixed_wcs_tweakreg.fits [ 0.00596289 -1.6397515 ]\n",
      "./F770W/stage3/jw02736002001_02101_00002_mirimage_fixed_wcs_tweakreg.fits [ 0.00599256 -1.63975139]\n",
      "./F770W/stage3/jw02736002001_02101_00003_mirimage_fixed_wcs_tweakreg.fits [ 0.00593173 -1.63975161]\n",
      "./F770W/stage3/jw02736002001_02101_00004_mirimage_fixed_wcs_tweakreg.fits [ 0.00600621 -1.63975135]\n",
      "./F770W/stage3/jw02736002001_02101_00005_mirimage_fixed_wcs_tweakreg.fits [ 0.00594269 -1.63975157]\n",
      "./F770W/stage3/jw02736002001_02101_00006_mirimage_fixed_wcs_tweakreg.fits [ 0.00595219 -1.63975154]\n",
      "./F770W/stage3/jw02736002001_02101_00007_mirimage_fixed_wcs_tweakreg.fits [ 0.00613922 -1.63975085]\n",
      "./F770W/stage3/jw02736002001_02101_00008_mirimage_fixed_wcs_tweakreg.fits [ 0.00595706 -1.63975152]\n",
      "./F770W/stage3/jw02736002001_02101_00009_mirimage_fixed_wcs_tweakreg.fits [ 0.00601453 -1.63975131]\n",
      "./F770W/stage3/jw02736002001_02101_00010_mirimage_fixed_wcs_tweakreg.fits [ 0.00614007 -1.63975084]\n"
     ]
    }
   ],
   "source": [
    "RAD2ARCSEC = 3600.0 * np.rad2deg(1.0)\n",
    "\n",
    "filter = \"F770W\"\n",
    "twfiles = np.sort(glob.glob(f\"./{filter}/stage3/*wcs_tweakreg.fits\"))\n",
    "\n",
    "shifts = np.zeros((2, len(twfiles)))\n",
    "for k, cfile in enumerate(twfiles):\n",
    "    # extract x,y shifts from the aligned image:\n",
    "    aligned_model = datamodels.open(cfile)\n",
    "    matrix = aligned_model.meta.wcs.forward_transform['tp_affine'].matrix.value\n",
    "    cshift = RAD2ARCSEC * aligned_model.meta.wcs.forward_transform['tp_affine'].translation.value\n",
    "    shifts[:, k] = cshift\n",
    "    print(cfile, cshift)"
   ]
  },
  {
   "cell_type": "code",
   "execution_count": 3,
   "id": "5abffd5d",
   "metadata": {},
   "outputs": [
    {
     "name": "stdout",
     "output_type": "stream",
     "text": [
      "0 0.006003914950907428 -1.6397513463822861\n"
     ]
    },
    {
     "data": {
      "image/png": "[encoded data removed]",
      "text/plain": [
       "<Figure size 432x288 with 1 Axes>"
      ]
     },
     "metadata": {
      "needs_background": "light"
     },
     "output_type": "display_data"
    }
   ],
   "source": [
    "import matplotlib.pyplot as plt\n",
    "\n",
    "plt.plot(range(len(twfiles)), shifts[0, :], \"b-\")\n",
    "plt.plot(range(len(twfiles)), shifts[1, :], \"g-\")\n",
    "\n",
    "from astropy.stats import sigma_clip\n",
    "\n",
    "# determine the aveage values for each tile\n",
    "for k in range(1):\n",
    "    k1 = k*10\n",
    "    k2 = k1 + 10\n",
    "    avex = np.average(sigma_clip(shifts[0, k1:k2]))\n",
    "    avey = np.average(sigma_clip(shifts[1, k1:k2]))\n",
    "    print(k, avex, avey)\n",
    "    plt.axhline(avex, linestyle=\"dotted\", color=\"b\")\n",
    "    plt.axhline(avey, linestyle=\"dotted\", color=\"g\")"
   ]
  },
  {
   "cell_type": "code",
   "execution_count": null,
   "id": "96016508",
   "metadata": {},
   "outputs": [],
   "source": []
  }
 ],
 "metadata": {
  "kernelspec": {
   "display_name": "jwstdev",
   "language": "python",
   "name": "jwstdev"
  },
  "language_info": {
   "codemirror_mode": {
    "name": "ipython",
    "version": 3
   },
   "file_extension": ".py",
   "mimetype": "text/x-python",
   "name": "python",
   "nbconvert_exporter": "python",
   "pygments_lexer": "ipython3",
   "version": "3.10.4"
  }
 },
 "nbformat": 4,
 "nbformat_minor": 5
}
