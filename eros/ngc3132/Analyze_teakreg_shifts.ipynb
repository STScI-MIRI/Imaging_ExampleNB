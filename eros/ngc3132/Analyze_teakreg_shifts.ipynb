{
 "cells": [
  {
   "cell_type": "markdown",
   "id": "bb87181e",
   "metadata": {},
   "source": [
    "### Analyzing tweakreg shifts\n",
    "\n",
    "Karl Gordon\n",
    "\n",
    "12 Jun 2022"
   ]
  },
  {
   "cell_type": "code",
   "execution_count": 1,
   "id": "1503b24f",
   "metadata": {},
   "outputs": [],
   "source": [
    "from tweakwcs import JWSTgWCS\n",
    "from jwst import datamodels\n",
    "import numpy as np\n",
    "import glob"
   ]
  },
  {
   "cell_type": "code",
   "execution_count": 2,
   "id": "92f030fa",
   "metadata": {},
   "outputs": [
    {
     "name": "stdout",
     "output_type": "stream",
     "text": [
      "./F770W/stage3/jw02733002001_02101_00001_mirimage_fixed_wcs_tweakreg.fits [0.22987429 0.04040382]\n",
      "./F770W/stage3/jw02733002001_02101_00002_mirimage_fixed_wcs_tweakreg.fits [ 0.17893764 -0.06851909]\n",
      "./F770W/stage3/jw02733002001_02101_00003_mirimage_fixed_wcs_tweakreg.fits [ 0.1702776  -0.06170493]\n",
      "./F770W/stage3/jw02733002001_02101_00004_mirimage_fixed_wcs_tweakreg.fits [ 0.16992581 -0.06648449]\n",
      "./F770W/stage3/jw02733002001_02101_00005_mirimage_fixed_wcs_tweakreg.fits [ 0.1832277  -0.02761401]\n",
      "./F770W/stage3/jw02733002001_02101_00006_mirimage_fixed_wcs_tweakreg.fits [ 0.17342965 -0.05131693]\n",
      "./F770W/stage3/jw02733002001_02101_00007_mirimage_fixed_wcs_tweakreg.fits [ 0.17128566 -0.05763628]\n",
      "./F770W/stage3/jw02733002001_02101_00008_mirimage_fixed_wcs_tweakreg.fits [ 0.17154314 -0.06254138]\n",
      "./F770W/stage3/jw02733002002_02101_00001_mirimage_fixed_wcs_tweakreg.fits [ 0.17492886 -0.05067449]\n",
      "./F770W/stage3/jw02733002002_02101_00002_mirimage_fixed_wcs_tweakreg.fits [ 0.17443543 -0.0623754 ]\n",
      "./F770W/stage3/jw02733002002_02101_00003_mirimage_fixed_wcs_tweakreg.fits [ 0.17892571 -0.06855025]\n",
      "./F770W/stage3/jw02733002002_02101_00004_mirimage_fixed_wcs_tweakreg.fits [ 0.17572875 -0.06757627]\n",
      "./F770W/stage3/jw02733002002_02101_00005_mirimage_fixed_wcs_tweakreg.fits [ 0.16773943 -0.05450106]\n",
      "./F770W/stage3/jw02733002002_02101_00006_mirimage_fixed_wcs_tweakreg.fits [ 0.16720935 -0.05161058]\n",
      "./F770W/stage3/jw02733002002_02101_00007_mirimage_fixed_wcs_tweakreg.fits [ 0.17250266 -0.05380197]\n",
      "./F770W/stage3/jw02733002002_02101_00008_mirimage_fixed_wcs_tweakreg.fits [ 0.16796407 -0.06449405]\n"
     ]
    }
   ],
   "source": [
    "RAD2ARCSEC = 3600.0 * np.rad2deg(1.0)\n",
    "\n",
    "filter = \"F770W\"\n",
    "twfiles = np.sort(glob.glob(f\"./{filter}/stage3/*wcs_tweakreg.fits\"))\n",
    "\n",
    "shifts = np.zeros((2, len(twfiles)))\n",
    "for k, cfile in enumerate(twfiles):\n",
    "    # extract x,y shifts from the aligned image:\n",
    "    aligned_model = datamodels.open(cfile)\n",
    "    matrix = aligned_model.meta.wcs.forward_transform['tp_affine'].matrix.value\n",
    "    cshift = RAD2ARCSEC * aligned_model.meta.wcs.forward_transform['tp_affine'].translation.value\n",
    "    shifts[:, k] = cshift\n",
    "    print(cfile, cshift)"
   ]
  },
  {
   "cell_type": "code",
   "execution_count": 6,
   "id": "5abffd5d",
   "metadata": {},
   "outputs": [
    {
     "name": "stdout",
     "output_type": "stream",
     "text": [
      "0 0.17320409635878223 -0.06012765659475183\n"
     ]
    },
    {
     "data": {
      "image/png": "[encoded data removed]",
      "text/plain": [
       "<Figure size 432x288 with 1 Axes>"
      ]
     },
     "metadata": {
      "needs_background": "light"
     },
     "output_type": "display_data"
    }
   ],
   "source": [
    "import matplotlib.pyplot as plt\n",
    "\n",
    "plt.plot(range(len(twfiles)), shifts[0, :], \"b-\")\n",
    "plt.plot(range(len(twfiles)), shifts[1, :], \"g-\")\n",
    "\n",
    "from astropy.stats import sigma_clip\n",
    "\n",
    "# determine the aveage values for each tile\n",
    "for k in range(1):\n",
    "    k1 = k*16\n",
    "    k2 = k1 + 16\n",
    "    avex = np.average(sigma_clip(shifts[0, k1:k2]))\n",
    "    avey = np.average(sigma_clip(shifts[1, k1:k2]))\n",
    "    print(k, avex, avey)\n",
    "    plt.axhline(avex, linestyle=\"dotted\", color=\"b\")\n",
    "    plt.axhline(avey, linestyle=\"dotted\", color=\"g\")"
   ]
  },
  {
   "cell_type": "code",
   "execution_count": null,
   "id": "96016508",
   "metadata": {},
   "outputs": [],
   "source": []
  }
 ],
 "metadata": {
  "kernelspec": {
   "display_name": "jwstdev",
   "language": "python",
   "name": "jwstdev"
  },
  "language_info": {
   "codemirror_mode": {
    "name": "ipython",
    "version": 3
   },
   "file_extension": ".py",
   "mimetype": "text/x-python",
   "name": "python",
   "nbconvert_exporter": "python",
   "pygments_lexer": "ipython3",
   "version": "3.10.4"
  }
 },
 "nbformat": 4,
 "nbformat_minor": 5
}
