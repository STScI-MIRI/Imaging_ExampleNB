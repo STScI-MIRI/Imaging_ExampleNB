{
 "cells": [
  {
   "cell_type": "markdown",
   "id": "bb87181e",
   "metadata": {},
   "source": [
    "### Analyzing tweakreg shifts\n",
    "\n",
    "Karl Gordon\n",
    "\n",
    "12 Jun 2022"
   ]
  },
  {
   "cell_type": "code",
   "execution_count": 1,
   "id": "1503b24f",
   "metadata": {},
   "outputs": [],
   "source": [
    "from tweakwcs import JWSTgWCS\n",
    "from jwst import datamodels\n",
    "import numpy as np\n",
    "import glob"
   ]
  },
  {
   "cell_type": "code",
   "execution_count": 2,
   "id": "92f030fa",
   "metadata": {},
   "outputs": [
    {
     "name": "stdout",
     "output_type": "stream",
     "text": [
      "./F770W/stage3/jw02729002001_02101_00001_mirimage_fixed_wcs_tweakreg.fits [ 0.22430049 -0.93924847]\n",
      "./F770W/stage3/jw02729002001_02101_00002_mirimage_fixed_wcs_tweakreg.fits [ 0.24171048 -0.93556712]\n",
      "./F770W/stage3/jw02729002001_02101_00003_mirimage_fixed_wcs_tweakreg.fits [ 0.24434725 -0.93101066]\n",
      "./F770W/stage3/jw02729002001_02101_00004_mirimage_fixed_wcs_tweakreg.fits [ 0.22528784 -0.93490049]\n",
      "./F770W/stage3/jw02729002001_02101_00005_mirimage_fixed_wcs_tweakreg.fits [ 0.22641986 -0.92929237]\n",
      "./F770W/stage3/jw02729002001_02101_00006_mirimage_fixed_wcs_tweakreg.fits [ 0.23310651 -0.91495165]\n",
      "./F770W/stage3/jw02729002001_02101_00007_mirimage_fixed_wcs_tweakreg.fits [ 0.24584458 -0.93020625]\n",
      "./F770W/stage3/jw02729002001_02101_00008_mirimage_fixed_wcs_tweakreg.fits [ 0.22169037 -0.94081181]\n",
      "./F770W/stage3/jw02729002001_02101_00009_mirimage_fixed_wcs_tweakreg.fits [ 0.23478949 -0.93417591]\n",
      "./F770W/stage3/jw02729002001_02101_00010_mirimage_fixed_wcs_tweakreg.fits [ 0.24469864 -0.92661495]\n",
      "./F770W/stage3/jw02729002002_02101_00001_mirimage_fixed_wcs_tweakreg.fits [ 0.81400515 -0.08546996]\n",
      "./F770W/stage3/jw02729002002_02101_00002_mirimage_fixed_wcs_tweakreg.fits [ 0.77986187 -0.0962164 ]\n",
      "./F770W/stage3/jw02729002002_02101_00003_mirimage_fixed_wcs_tweakreg.fits [ 0.77724224 -0.10549456]\n",
      "./F770W/stage3/jw02729002002_02101_00004_mirimage_fixed_wcs_tweakreg.fits [ 0.78824943 -0.09061604]\n",
      "./F770W/stage3/jw02729002002_02101_00005_mirimage_fixed_wcs_tweakreg.fits [ 0.80689361 -0.09856585]\n",
      "./F770W/stage3/jw02729002002_02101_00006_mirimage_fixed_wcs_tweakreg.fits [ 0.78751972 -0.09238276]\n",
      "./F770W/stage3/jw02729002002_02101_00007_mirimage_fixed_wcs_tweakreg.fits [ 0.80492557 -0.07573728]\n",
      "./F770W/stage3/jw02729002002_02101_00008_mirimage_fixed_wcs_tweakreg.fits [ 0.77430568 -0.10554121]\n",
      "./F770W/stage3/jw02729002002_02101_00009_mirimage_fixed_wcs_tweakreg.fits [ 0.76863847 -0.11445637]\n",
      "./F770W/stage3/jw02729002002_02101_00010_mirimage_fixed_wcs_tweakreg.fits [ 0.78332055 -0.05680504]\n"
     ]
    }
   ],
   "source": [
    "RAD2ARCSEC = 3600.0 * np.rad2deg(1.0)\n",
    "\n",
    "filter = \"F770W\"\n",
    "twfiles = np.sort(glob.glob(f\"./{filter}/stage3/*wcs_tweakreg.fits\"))\n",
    "\n",
    "shifts = np.zeros((2, len(twfiles)))\n",
    "for k, cfile in enumerate(twfiles):\n",
    "    # extract x,y shifts from the aligned image:\n",
    "    aligned_model = datamodels.open(cfile)\n",
    "    matrix = aligned_model.meta.wcs.forward_transform['tp_affine'].matrix.value\n",
    "    cshift = RAD2ARCSEC * aligned_model.meta.wcs.forward_transform['tp_affine'].translation.value\n",
    "    shifts[:, k] = cshift\n",
    "    print(cfile, cshift)"
   ]
  },
  {
   "cell_type": "code",
   "execution_count": 3,
   "id": "5abffd5d",
   "metadata": {},
   "outputs": [
    {
     "name": "stdout",
     "output_type": "stream",
     "text": [
      "0 0.2342195515193774 -0.9316779689106902\n",
      "1 0.7884962280416655 -0.09212854823862968\n"
     ]
    },
    {
     "data": {
      "image/png": "[encoded data removed]",
      "text/plain": [
       "<Figure size 432x288 with 1 Axes>"
      ]
     },
     "metadata": {
      "needs_background": "light"
     },
     "output_type": "display_data"
    }
   ],
   "source": [
    "import matplotlib.pyplot as plt\n",
    "\n",
    "plt.plot(range(len(twfiles)), shifts[0, :], \"b-\")\n",
    "plt.plot(range(len(twfiles)), shifts[1, :], \"g-\")\n",
    "\n",
    "from astropy.stats import sigma_clip\n",
    "\n",
    "# determine the aveage values for each tile\n",
    "for k in range(2):\n",
    "    k1 = k*10\n",
    "    k2 = k1 + 10\n",
    "    avex = np.average(sigma_clip(shifts[0, k1:k2]))\n",
    "    avey = np.average(sigma_clip(shifts[1, k1:k2]))\n",
    "    print(k, avex, avey)\n",
    "    plt.axhline(avex, linestyle=\"dotted\", color=\"b\")\n",
    "    plt.axhline(avey, linestyle=\"dotted\", color=\"g\")"
   ]
  },
  {
   "cell_type": "code",
   "execution_count": null,
   "id": "96016508",
   "metadata": {},
   "outputs": [],
   "source": []
  }
 ],
 "metadata": {
  "kernelspec": {
   "display_name": "jwstdev",
   "language": "python",
   "name": "jwstdev"
  },
  "language_info": {
   "codemirror_mode": {
    "name": "ipython",
    "version": 3
   },
   "file_extension": ".py",
   "mimetype": "text/x-python",
   "name": "python",
   "nbconvert_exporter": "python",
   "pygments_lexer": "ipython3",
   "version": "3.10.4"
  }
 },
 "nbformat": 4,
 "nbformat_minor": 5
}
