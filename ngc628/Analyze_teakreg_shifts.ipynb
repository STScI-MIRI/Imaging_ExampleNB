{
 "cells": [
  {
   "cell_type": "markdown",
   "id": "bb87181e",
   "metadata": {},
   "source": [
    "### Analyzing tweakreg shifts\n",
    "\n",
    "Author: Karl Gordon\n",
    "\n",
    "5 Jul 2022"
   ]
  },
  {
   "cell_type": "code",
   "execution_count": 1,
   "id": "1503b24f",
   "metadata": {},
   "outputs": [],
   "source": [
    "from tweakwcs import JWSTgWCS\n",
    "from jwst import datamodels\n",
    "from astropy.stats import sigma_clip\n",
    "import numpy as np\n",
    "import glob"
   ]
  },
  {
   "cell_type": "code",
   "execution_count": 2,
   "id": "3ff957e3",
   "metadata": {},
   "outputs": [],
   "source": [
    "n_tiles = 5\n",
    "n_images_per_tile = 4"
   ]
  },
  {
   "cell_type": "code",
   "execution_count": 3,
   "id": "92f030fa",
   "metadata": {
    "scrolled": false
   },
   "outputs": [
    {
     "name": "stdout",
     "output_type": "stream",
     "text": [
      "./F770W/stage3/jw02107039001_02101_00001_mirimage_fixed_wcs_tweakreg.fits [-0.06028706 -0.27709509] NBOM002960\n",
      "./F770W/stage3/jw02107039001_02101_00002_mirimage_fixed_wcs_tweakreg.fits [-0.05832034 -0.27321589] NBOM002960\n",
      "./F770W/stage3/jw02107039001_02101_00003_mirimage_fixed_wcs_tweakreg.fits [-0.05338317 -0.27595622] NBOM002960\n",
      "./F770W/stage3/jw02107039001_02101_00004_mirimage_fixed_wcs_tweakreg.fits [-0.05389544 -0.27771858] NBOM002960\n",
      "./F770W/stage3/jw02107039002_02101_00001_mirimage_fixed_wcs_tweakreg.fits [-0.25751847 -0.31634183] NBOM003197\n",
      "./F770W/stage3/jw02107039002_02101_00002_mirimage_fixed_wcs_tweakreg.fits [-0.25752543 -0.31633618] NBOM003197\n",
      "./F770W/stage3/jw02107039002_02101_00003_mirimage_fixed_wcs_tweakreg.fits [-0.24557275 -0.30979854] NBOM003197\n",
      "./F770W/stage3/jw02107039002_02101_00004_mirimage_fixed_wcs_tweakreg.fits [-0.24846994 -0.31846357] NBOM003197\n",
      "./F770W/stage3/jw02107039003_02101_00001_mirimage_fixed_wcs_tweakreg.fits [-0.26460159 -0.32860949] NBOM003283\n",
      "./F770W/stage3/jw02107039003_02101_00002_mirimage_fixed_wcs_tweakreg.fits [-0.25751572 -0.31634418] NBOM003283\n",
      "./F770W/stage3/jw02107039003_02101_00003_mirimage_fixed_wcs_tweakreg.fits [-0.25346768 -0.31008507] NBOM003283\n",
      "./F770W/stage3/jw02107039003_02101_00004_mirimage_fixed_wcs_tweakreg.fits [-0.24265996 -0.31176001] NBOM003283\n",
      "./F770W/stage3/jw02107040001_02201_00001_mirimage_fixed_wcs_tweakreg.fits [-0.25754512 -0.31632151] NBOU000184\n",
      "./F770W/stage3/jw02107040001_02201_00002_mirimage_fixed_wcs_tweakreg.fits [-0.25754753 -0.31631952] NBOU000184\n",
      "./F770W/stage3/jw02107040001_02201_00003_mirimage_fixed_wcs_tweakreg.fits [-0.25754661 -0.31632023] NBOU000184\n",
      "./F770W/stage3/jw02107040001_02201_00004_mirimage_fixed_wcs_tweakreg.fits [-0.2575442  -0.31632222] NBOU000184\n",
      "./F770W/stage3/jw02107040002_02201_00001_mirimage_fixed_wcs_tweakreg.fits [-0.25752573 -0.31633665] NBOU005929\n",
      "./F770W/stage3/jw02107040002_02201_00002_mirimage_fixed_wcs_tweakreg.fits [-0.25752815 -0.31633466] NBOU005929\n",
      "./F770W/stage3/jw02107040002_02201_00003_mirimage_fixed_wcs_tweakreg.fits [-0.25752723 -0.31633538] NBOU005929\n",
      "./F770W/stage3/jw02107040002_02201_00004_mirimage_fixed_wcs_tweakreg.fits [-0.25752481 -0.31633737] NBOU005929\n"
     ]
    }
   ],
   "source": [
    "RAD2ARCSEC = 3600.0 * np.rad2deg(1.0)\n",
    "\n",
    "filter = \"F770W\"\n",
    "twfiles = np.sort(glob.glob(f\"./{filter}/stage3/*wcs_tweakreg.fits\"))\n",
    "\n",
    "shifts = np.zeros((2, len(twfiles)))\n",
    "for k, cfile in enumerate(twfiles):\n",
    "    # extract x,y shifts from the aligned image:\n",
    "    aligned_model = datamodels.open(cfile)\n",
    "    matrix = aligned_model.meta.wcs.forward_transform['tp_affine'].matrix.value\n",
    "    cshift = RAD2ARCSEC * aligned_model.meta.wcs.forward_transform['tp_affine'].translation.value\n",
    "    shifts[:, k] = cshift\n",
    "    print(cfile, cshift, aligned_model.meta.guidestar.gs_id)"
   ]
  },
  {
   "cell_type": "code",
   "execution_count": 4,
   "id": "5abffd5d",
   "metadata": {},
   "outputs": [
    {
     "data": {
      "text/plain": [
       "[<matplotlib.lines.Line2D at 0x7f0dc586d0f0>]"
      ]
     },
     "execution_count": 4,
     "metadata": {},
     "output_type": "execute_result"
    },
    {
     "data": {
      "image/png": "[encoded data removed]",
      "text/plain": [
       "<Figure size 432x288 with 1 Axes>"
      ]
     },
     "metadata": {
      "needs_background": "light"
     },
     "output_type": "display_data"
    }
   ],
   "source": [
    "import matplotlib.pyplot as plt\n",
    "\n",
    "plt.plot(range(len(twfiles)), shifts[0, :], \"b-\")\n",
    "plt.plot(range(len(twfiles)), shifts[1, :], \"g-\")"
   ]
  },
  {
   "cell_type": "code",
   "execution_count": 5,
   "id": "15bdab39",
   "metadata": {},
   "outputs": [
    {
     "name": "stdout",
     "output_type": "stream",
     "text": [
      "0 -0.05647150365601337 -0.2759964433337788\n",
      "1 -0.25227164704614663 -0.31523502700888206\n",
      "2 -0.2545612377015838 -0.3166996893456614\n",
      "3 -0.257545863147537 -0.31632086761441347\n",
      "4 -0.2575264791579155 -0.3163360127396757\n"
     ]
    }
   ],
   "source": [
    "# determine the aveage values for each tile\n",
    "#    set the range to be the number of tiles and the \n",
    "for k in range(n_tiles):\n",
    "    k1 = k * n_images_per_tile\n",
    "    k2 = k1 + n_images_per_tile\n",
    "    avex = np.average(sigma_clip(shifts[0, k1:k2]))\n",
    "    avey = np.average(sigma_clip(shifts[1, k1:k2]))\n",
    "    print(k, avex, avey)"
   ]
  },
  {
   "cell_type": "code",
   "execution_count": null,
   "id": "96016508",
   "metadata": {},
   "outputs": [],
   "source": []
  }
 ],
 "metadata": {
  "kernelspec": {
   "display_name": "Python (jwstdev)",
   "language": "python",
   "name": "myenv"
  },
  "language_info": {
   "codemirror_mode": {
    "name": "ipython",
    "version": 3
   },
   "file_extension": ".py",
   "mimetype": "text/x-python",
   "name": "python",
   "nbconvert_exporter": "python",
   "pygments_lexer": "ipython3",
   "version": "3.10.4"
  }
 },
 "nbformat": 4,
 "nbformat_minor": 5
}
